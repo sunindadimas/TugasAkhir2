{
 "cells": [
  {
   "attachments": {},
   "cell_type": "markdown",
   "metadata": {},
   "source": [
    "Import Libary"
   ]
  },
  {
   "cell_type": "code",
   "execution_count": 2,
   "metadata": {},
   "outputs": [],
   "source": [
    "import pandas as pd \n",
    "\n",
    "import nltk\n",
    "\n",
    "import matplotlib.pyplot as plt\n",
    "import seaborn as sns"
   ]
  },
  {
   "attachments": {},
   "cell_type": "markdown",
   "metadata": {},
   "source": [
    "### **Model Development**"
   ]
  },
  {
   "cell_type": "code",
   "execution_count": 3,
   "metadata": {},
   "outputs": [],
   "source": [
    "data = pd.read_csv('data/mentri.csv')"
   ]
  },
  {
   "attachments": {},
   "cell_type": "markdown",
   "metadata": {},
   "source": [
    "Train Test Split"
   ]
  },
  {
   "cell_type": "code",
   "execution_count": 4,
   "metadata": {},
   "outputs": [
    {
     "name": "stdout",
     "output_type": "stream",
     "text": [
      "Label counts after SMOTE:\n",
      "sentiment\n",
      "negative    1381\n",
      "positive    1381\n",
      "Name: count, dtype: int64\n",
      "Train set shape: (2209, 4750), (2209,)\n",
      "Test set shape: (553, 4750), (553,)\n"
     ]
    }
   ],
   "source": [
    "from sklearn.feature_extraction.text import TfidfVectorizer\n",
    "from imblearn.over_sampling import SMOTE\n",
    "from sklearn.model_selection import train_test_split, KFold, StratifiedKFold\n",
    "\n",
    "# Vectorize the text data using TF-IDF\n",
    "tfidf = TfidfVectorizer(max_features=8000)\n",
    "X_tfidf = tfidf.fit_transform(data['clean_teks'])\n",
    "y = data['sentiment']\n",
    "\n",
    "# Apply SMOTE to balance the data\n",
    "smote = SMOTE(random_state=42)\n",
    "X_smote, y_smote = smote.fit_resample(X_tfidf, y)\n",
    "\n",
    "# Check label counts after SMOTE\n",
    "print(\"Label counts after SMOTE:\")\n",
    "print(pd.Series(y_smote).value_counts())\n",
    "\n",
    "# Split the data into train and test sets\n",
    "X_train, X_test, y_train, y_test = train_test_split(X_smote, y_smote, test_size=0.2, random_state=42)\n",
    "\n",
    "# Print shapes of the train and test sets\n",
    "print(f\"Train set shape: {X_train.shape}, {y_train.shape}\")\n",
    "print(f\"Test set shape: {X_test.shape}, {y_test.shape}\")"
   ]
  },
  {
   "attachments": {},
   "cell_type": "markdown",
   "metadata": {},
   "source": [
    "# Poliynomial"
   ]
  },
  {
   "cell_type": "code",
   "execution_count": 5,
   "metadata": {},
   "outputs": [
    {
     "name": "stderr",
     "output_type": "stream",
     "text": [
      "c:\\Users\\alfar\\AppData\\Local\\Programs\\Python\\Python310\\lib\\site-packages\\sklearn\\svm\\_base.py:297: ConvergenceWarning: Solver terminated early (max_iter=1000).  Consider pre-processing your data with StandardScaler or MinMaxScaler.\n",
      "  warnings.warn(\n"
     ]
    },
    {
     "name": "stdout",
     "output_type": "stream",
     "text": [
      "Best Parameters: {'C': 61.848150962771655, 'class_weight': 'balanced', 'coef0': 3.0, 'degree': 6, 'gamma': 0.01, 'max_iter': 1000, 'shrinking': True, 'tol': 1e-05}\n",
      "Best Cross-Validation Accuracy: 0.9778298706870135\n",
      "\n",
      "SVM Test (Poly) - Accuracy: 0.9855334538878843\n",
      "SVM Test (Poly) - Precision: 0.9857694634054683\n",
      "SVM Test (Poly) - Recall: 0.9855334538878843\n",
      "SVM Test (Poly) - F1 Score: 0.9855354410508117\n",
      "\n",
      "SVM Train (Poly) - Accuracy: 1.0\n",
      "SVM Train (Poly) - Precision: 1.0\n",
      "SVM Train (Poly) - Recall: 1.0\n",
      "SVM Train (Poly) - F1 Score: 1.0\n",
      "\n",
      "Classification Report (Test Data - Poly Kernel):\n",
      "\n",
      "              precision    recall  f1-score   support\n",
      "\n",
      "    negative       0.97      1.00      0.99       270\n",
      "    positive       1.00      0.98      0.99       283\n",
      "\n",
      "    accuracy                           0.99       553\n",
      "   macro avg       0.99      0.99      0.99       553\n",
      "weighted avg       0.99      0.99      0.99       553\n",
      "\n"
     ]
    }
   ],
   "source": [
    "from sklearn.model_selection import RandomizedSearchCV\n",
    "from sklearn.svm import SVC\n",
    "from scipy.stats import uniform\n",
    "from sklearn.metrics import accuracy_score, precision_score, recall_score, f1_score, classification_report\n",
    "\n",
    "# Define the SVM model with polynomial kernel\n",
    "svm_model = SVC(kernel='poly')  # Set the kernel explicitly to 'poly'\n",
    "\n",
    "# Define the parameter grid for advanced hyperparameter tuning for polynomial kernel\n",
    "svm_params = {\n",
    "    'C': uniform(0.1, 100),  # Uniform distribution between 0.1 and 100\n",
    "    'degree': [2, 3, 4, 5, 6, 7, 8, 10],  # Polynomial degree options\n",
    "    'gamma': ['scale', 'auto', 0.001, 0.01, 0.1, 1, 10],  # Range of gamma values\n",
    "    'coef0': [0.0, 0.1, 0.5, 1.0, 2.0, 3.0],  # Range for coef0\n",
    "    'class_weight': [None, 'balanced'],  # Class weight options\n",
    "    'shrinking': [True, False],  # Shrinking heuristic\n",
    "    'tol': [1e-3, 1e-4, 1e-5],  # Tolerance for stopping criteria\n",
    "    'max_iter': [1000, 2000, 3000, 4000, 5000]  # Maximum number of iterations\n",
    "}\n",
    "\n",
    "# Perform RandomizedSearchCV\n",
    "svm_random = RandomizedSearchCV(svm_model, svm_params, n_iter=50, cv=15, scoring='accuracy', random_state=42, n_jobs=-1)\n",
    "svm_random.fit(X_train, y_train)\n",
    "\n",
    "# Get the best estimator and predictions for test data\n",
    "svm_best = svm_random.best_estimator_\n",
    "svm_pred_test_poly = svm_best.predict(X_test)\n",
    "\n",
    "# Calculate metrics for test data\n",
    "accuracy_svm_test_poly = accuracy_score(y_test, svm_pred_test_poly)\n",
    "precision_svm_test_poly = precision_score(y_test, svm_pred_test_poly, average='weighted')\n",
    "recall_svm_test_poly = recall_score(y_test, svm_pred_test_poly, average='weighted')\n",
    "f1_svm_test_poly = f1_score(y_test, svm_pred_test_poly, average='weighted')\n",
    "\n",
    "# Get the best estimator and predictions for training data\n",
    "svm_pred_train_poly = svm_best.predict(X_train)\n",
    "\n",
    "# Calculate metrics for training data\n",
    "accuracy_svm_train_poly = accuracy_score(y_train, svm_pred_train_poly)\n",
    "precision_svm_train_poly = precision_score(y_train, svm_pred_train_poly, average='weighted')\n",
    "recall_svm_train_poly = recall_score(y_train, svm_pred_train_poly, average='weighted')\n",
    "f1_svm_train_poly = f1_score(y_train, svm_pred_train_poly, average='weighted')\n",
    "\n",
    "# Display the best parameters and classification report for test data\n",
    "svm_best_params = svm_random.best_params_\n",
    "svm_best_score = svm_random.best_score_\n",
    "\n",
    "print(f\"Best Parameters: {svm_best_params}\")\n",
    "print(f\"Best Cross-Validation Accuracy: {svm_best_score}\\n\")\n",
    "\n",
    "# Display the metrics for test data\n",
    "print(f\"SVM Test (Poly) - Accuracy: {accuracy_svm_test_poly}\")\n",
    "print(f\"SVM Test (Poly) - Precision: {precision_svm_test_poly}\")\n",
    "print(f\"SVM Test (Poly) - Recall: {recall_svm_test_poly}\")\n",
    "print(f\"SVM Test (Poly) - F1 Score: {f1_svm_test_poly}\")\n",
    "\n",
    "# Display the metrics for training data\n",
    "print(f\"\\nSVM Train (Poly) - Accuracy: {accuracy_svm_train_poly}\")\n",
    "print(f\"SVM Train (Poly) - Precision: {precision_svm_train_poly}\")\n",
    "print(f\"SVM Train (Poly) - Recall: {recall_svm_train_poly}\")\n",
    "print(f\"SVM Train (Poly) - F1 Score: {f1_svm_train_poly}\")\n",
    "\n",
    "# Generate classification report for test data\n",
    "class_report_test_poly = classification_report(y_test, svm_pred_test_poly, target_names=['negative', 'positive'])\n",
    "print(\"\\nClassification Report (Test Data - Poly Kernel):\\n\")\n",
    "print(class_report_test_poly)"
   ]
  },
  {
   "attachments": {},
   "cell_type": "markdown",
   "metadata": {},
   "source": [
    "# RBF"
   ]
  },
  {
   "cell_type": "code",
   "execution_count": 6,
   "metadata": {},
   "outputs": [
    {
     "name": "stderr",
     "output_type": "stream",
     "text": [
      "c:\\Users\\alfar\\AppData\\Local\\Programs\\Python\\Python310\\lib\\site-packages\\sklearn\\svm\\_base.py:297: ConvergenceWarning: Solver terminated early (max_iter=3000).  Consider pre-processing your data with StandardScaler or MinMaxScaler.\n",
      "  warnings.warn(\n"
     ]
    },
    {
     "name": "stdout",
     "output_type": "stream",
     "text": [
      "Best Parameters: {'C': 15.171754396542946, 'class_weight': None, 'coef0': 3.0, 'degree': 10, 'gamma': 0.1, 'max_iter': 3000, 'shrinking': False, 'tol': 1e-05}\n",
      "Best Cross-Validation Accuracy: 0.9751179751179752\n",
      "\n",
      "SVM Test (rbf) - Accuracy: 0.9837251356238698\n",
      "SVM Test (rbf) - Precision: 0.9840448530671634\n",
      "SVM Test (rbf) - Recall: 0.9837251356238698\n",
      "SVM Test (rbf) - F1 Score: 0.9837273710871182\n",
      "\n",
      "SVM Train (rbf) - Accuracy: 0.9995473064735174\n",
      "SVM Train (rbf) - Precision: 0.9995477135720124\n",
      "SVM Train (rbf) - Recall: 0.9995473064735174\n",
      "SVM Train (rbf) - F1 Score: 0.9995473051746695\n",
      "\n",
      "Classification Report (Test Data - rbf Kernel):\n",
      "\n",
      "              precision    recall  f1-score   support\n",
      "\n",
      "    negative       0.97      1.00      0.98       270\n",
      "    positive       1.00      0.97      0.98       283\n",
      "\n",
      "    accuracy                           0.98       553\n",
      "   macro avg       0.98      0.98      0.98       553\n",
      "weighted avg       0.98      0.98      0.98       553\n",
      "\n"
     ]
    }
   ],
   "source": [
    "from sklearn.model_selection import RandomizedSearchCV\n",
    "from sklearn.svm import SVC\n",
    "from scipy.stats import uniform\n",
    "from sklearn.metrics import accuracy_score, precision_score, recall_score, f1_score, classification_report\n",
    "\n",
    "# Define the SVM model with polynomial kernel\n",
    "svm_model = SVC(kernel='rbf')  # Set the kernel explicitly to 'rbf'\n",
    "\n",
    "# Define the parameter grid for advanced hyperparameter tuning for polynomial kernel\n",
    "svm_params = {\n",
    "    'C': uniform(0.1, 100),  # Uniform distribution between 0.1 and 100\n",
    "    'degree': [2, 3, 4, 5, 6, 7, 8, 10],  # Polynomial degree options\n",
    "    'gamma': ['scale', 'auto', 0.001, 0.01, 0.1, 1, 10],  # Range of gamma values\n",
    "    'coef0': [0.0, 0.1, 0.5, 1.0, 2.0, 3.0],  # Range for coef0\n",
    "    'class_weight': [None, 'balanced'],  # Class weight options\n",
    "    'shrinking': [True, False],  # Shrinking heuristic\n",
    "    'tol': [1e-3, 1e-4, 1e-5],  # Tolerance for stopping criteria\n",
    "    'max_iter': [1000, 2000, 3000, 4000, 5000]  # Maximum number of iterations\n",
    "}\n",
    "\n",
    "# Perform RandomizedSearchCV\n",
    "svm_random = RandomizedSearchCV(svm_model, svm_params, n_iter=50, cv=15, scoring='accuracy', random_state=42, n_jobs=-1)\n",
    "svm_random.fit(X_train, y_train)\n",
    "\n",
    "# Get the best estimator and predictions for test data\n",
    "svm_best = svm_random.best_estimator_\n",
    "svm_pred_test_rbf = svm_best.predict(X_test)\n",
    "\n",
    "# Calculate metrics for test data\n",
    "accuracy_svm_test_rbf = accuracy_score(y_test, svm_pred_test_rbf)\n",
    "precision_svm_test_rbf = precision_score(y_test, svm_pred_test_rbf, average='weighted')\n",
    "recall_svm_test_rbf = recall_score(y_test, svm_pred_test_rbf, average='weighted')\n",
    "f1_svm_test_rbf = f1_score(y_test, svm_pred_test_rbf, average='weighted')\n",
    "\n",
    "# Get the best estimator and predictions for training data\n",
    "svm_pred_train_rbf = svm_best.predict(X_train)\n",
    "\n",
    "# Calculate metrics for training data\n",
    "accuracy_svm_train_rbf = accuracy_score(y_train, svm_pred_train_rbf)\n",
    "precision_svm_train_rbf = precision_score(y_train, svm_pred_train_rbf, average='weighted')\n",
    "recall_svm_train_rbf = recall_score(y_train, svm_pred_train_rbf, average='weighted')\n",
    "f1_svm_train_rbf = f1_score(y_train, svm_pred_train_rbf, average='weighted')\n",
    "\n",
    "# Display the best parameters and classification report for test data\n",
    "svm_best_params = svm_random.best_params_\n",
    "svm_best_score = svm_random.best_score_\n",
    "\n",
    "print(f\"Best Parameters: {svm_best_params}\")\n",
    "print(f\"Best Cross-Validation Accuracy: {svm_best_score}\\n\")\n",
    "\n",
    "# Display the metrics for test data\n",
    "print(f\"SVM Test (rbf) - Accuracy: {accuracy_svm_test_rbf}\")\n",
    "print(f\"SVM Test (rbf) - Precision: {precision_svm_test_rbf}\")\n",
    "print(f\"SVM Test (rbf) - Recall: {recall_svm_test_rbf}\")\n",
    "print(f\"SVM Test (rbf) - F1 Score: {f1_svm_test_rbf}\")\n",
    "\n",
    "# Display the metrics for training data\n",
    "print(f\"\\nSVM Train (rbf) - Accuracy: {accuracy_svm_train_rbf}\")\n",
    "print(f\"SVM Train (rbf) - Precision: {precision_svm_train_rbf}\")\n",
    "print(f\"SVM Train (rbf) - Recall: {recall_svm_train_rbf}\")\n",
    "print(f\"SVM Train (rbf) - F1 Score: {f1_svm_train_rbf}\")\n",
    "\n",
    "# Generate classification report for test data\n",
    "class_report_test_rbf = classification_report(y_test, svm_pred_test_rbf, target_names=['negative', 'positive'])\n",
    "print(\"\\nClassification Report (Test Data - rbf Kernel):\\n\")\n",
    "print(class_report_test_rbf)"
   ]
  },
  {
   "cell_type": "markdown",
   "metadata": {},
   "source": [
    "# Sigmoid"
   ]
  },
  {
   "cell_type": "code",
   "execution_count": 7,
   "metadata": {},
   "outputs": [
    {
     "name": "stderr",
     "output_type": "stream",
     "text": [
      "c:\\Users\\alfar\\AppData\\Local\\Programs\\Python\\Python310\\lib\\site-packages\\sklearn\\svm\\_base.py:297: ConvergenceWarning: Solver terminated early (max_iter=5000).  Consider pre-processing your data with StandardScaler or MinMaxScaler.\n",
      "  warnings.warn(\n"
     ]
    },
    {
     "name": "stdout",
     "output_type": "stream",
     "text": [
      "Best Parameters: {'C': 37.55401188473625, 'class_weight': None, 'coef0': 0.5, 'degree': 10, 'gamma': 0.1, 'max_iter': 5000, 'shrinking': True, 'tol': 0.0001}\n",
      "Best Cross-Validation Accuracy: 0.9764662621805478\n",
      "\n",
      "SVM Test (sigmoid) - Accuracy: 0.9873417721518988\n",
      "SVM Test (sigmoid) - Precision: 0.9875065195254614\n",
      "SVM Test (sigmoid) - Recall: 0.9873417721518988\n",
      "SVM Test (sigmoid) - F1 Score: 0.9873434282022476\n",
      "\n",
      "SVM Train (sigmoid) - Accuracy: 0.9995473064735174\n",
      "SVM Train (sigmoid) - Precision: 0.9995477135720124\n",
      "SVM Train (sigmoid) - Recall: 0.9995473064735174\n",
      "SVM Train (sigmoid) - F1 Score: 0.9995473051746695\n",
      "\n",
      "Classification Report (Test Data - rbf Kernel):\n",
      "\n",
      "              precision    recall  f1-score   support\n",
      "\n",
      "    negative       0.98      1.00      0.99       270\n",
      "    positive       1.00      0.98      0.99       283\n",
      "\n",
      "    accuracy                           0.99       553\n",
      "   macro avg       0.99      0.99      0.99       553\n",
      "weighted avg       0.99      0.99      0.99       553\n",
      "\n"
     ]
    }
   ],
   "source": [
    "from sklearn.model_selection import RandomizedSearchCV\n",
    "from sklearn.svm import SVC\n",
    "from scipy.stats import uniform\n",
    "from sklearn.metrics import accuracy_score, precision_score, recall_score, f1_score, classification_report\n",
    "\n",
    "# Define the SVM model with polynomial kernel\n",
    "svm_model = SVC(kernel='sigmoid')  # Set the kernel explicitly to 'sigmoid'\n",
    "\n",
    "# Define the parameter grid for advanced hyperparameter tuning for polynomial kernel\n",
    "svm_params = {\n",
    "    'C': uniform(0.1, 100),  # Uniform distribution between 0.1 and 100\n",
    "    'degree': [2, 3, 4, 5, 6, 7, 8, 10],  # Polynomial degree options\n",
    "    'gamma': ['scale', 'auto', 0.001, 0.01, 0.1, 1, 10],  # Range of gamma values\n",
    "    'coef0': [0.0, 0.1, 0.5, 1.0, 2.0, 3.0],  # Range for coef0\n",
    "    'class_weight': [None, 'balanced'],  # Class weight options\n",
    "    'shrinking': [True, False],  # Shrinking heuristic\n",
    "    'tol': [1e-3, 1e-4, 1e-5],  # Tolerance for stopping criteria\n",
    "    'max_iter': [1000, 2000, 3000, 4000, 5000]  # Maximum number of iterations\n",
    "}\n",
    "\n",
    "# Perform RandomizedSearchCV\n",
    "svm_random = RandomizedSearchCV(svm_model, svm_params, n_iter=50, cv=15, scoring='accuracy', random_state=42, n_jobs=-1)\n",
    "svm_random.fit(X_train, y_train)\n",
    "\n",
    "# Get the best estimator and predictions for test data\n",
    "svm_best = svm_random.best_estimator_\n",
    "svm_pred_test_sigmoid = svm_best.predict(X_test)\n",
    "\n",
    "# Calculate metrics for test data\n",
    "accuracy_svm_test_sigmoid = accuracy_score(y_test, svm_pred_test_sigmoid)\n",
    "precision_svm_test_sigmoid = precision_score(y_test, svm_pred_test_sigmoid, average='weighted')\n",
    "recall_svm_test_sigmoid = recall_score(y_test, svm_pred_test_sigmoid, average='weighted')\n",
    "f1_svm_test_sigmoid = f1_score(y_test, svm_pred_test_sigmoid, average='weighted')\n",
    "\n",
    "# Get the best estimator and predictions for training data\n",
    "svm_pred_train_sigmoid = svm_best.predict(X_train)\n",
    "\n",
    "# Calculate metrics for training data\n",
    "accuracy_svm_train_sigmoid = accuracy_score(y_train, svm_pred_train_sigmoid)\n",
    "precision_svm_train_sigmoid = precision_score(y_train, svm_pred_train_sigmoid, average='weighted')\n",
    "recall_svm_train_sigmoid = recall_score(y_train, svm_pred_train_sigmoid, average='weighted')\n",
    "f1_svm_train_sigmoid = f1_score(y_train, svm_pred_train_sigmoid, average='weighted')\n",
    "\n",
    "# Display the best parameters and classification report for test data\n",
    "svm_best_params = svm_random.best_params_\n",
    "svm_best_score = svm_random.best_score_\n",
    "\n",
    "print(f\"Best Parameters: {svm_best_params}\")\n",
    "print(f\"Best Cross-Validation Accuracy: {svm_best_score}\\n\")\n",
    "\n",
    "# Display the metrics for test data\n",
    "print(f\"SVM Test (sigmoid) - Accuracy: {accuracy_svm_test_sigmoid}\")\n",
    "print(f\"SVM Test (sigmoid) - Precision: {precision_svm_test_sigmoid}\")\n",
    "print(f\"SVM Test (sigmoid) - Recall: {recall_svm_test_sigmoid}\")\n",
    "print(f\"SVM Test (sigmoid) - F1 Score: {f1_svm_test_sigmoid}\")\n",
    "\n",
    "# Display the metrics for training data\n",
    "print(f\"\\nSVM Train (sigmoid) - Accuracy: {accuracy_svm_train_sigmoid}\")\n",
    "print(f\"SVM Train (sigmoid) - Precision: {precision_svm_train_sigmoid}\")\n",
    "print(f\"SVM Train (sigmoid) - Recall: {recall_svm_train_sigmoid}\")\n",
    "print(f\"SVM Train (sigmoid) - F1 Score: {f1_svm_train_sigmoid}\")\n",
    "\n",
    "# Generate classification report for test data\n",
    "class_report_test_sigmoid = classification_report(y_test, svm_pred_test_sigmoid, target_names=['negative', 'positive'])\n",
    "print(\"\\nClassification Report (Test Data - rbf Kernel):\\n\")\n",
    "print(class_report_test_sigmoid)"
   ]
  },
  {
   "cell_type": "markdown",
   "metadata": {},
   "source": [
    "# Linear"
   ]
  },
  {
   "cell_type": "code",
   "execution_count": 8,
   "metadata": {},
   "outputs": [
    {
     "name": "stdout",
     "output_type": "stream",
     "text": [
      "Best Parameters: {'C': 37.55401188473625, 'class_weight': None, 'coef0': 0.5, 'degree': 10, 'gamma': 0.1, 'max_iter': 5000, 'shrinking': True, 'tol': 0.0001}\n",
      "Best Cross-Validation Accuracy: 0.9778298706870135\n",
      "\n",
      "SVM Test (sigmoid) - Accuracy: 0.9855334538878843\n",
      "SVM Test (sigmoid) - Precision: 0.9857694634054683\n",
      "SVM Test (sigmoid) - Recall: 0.9855334538878843\n",
      "SVM Test (sigmoid) - F1 Score: 0.9855354410508117\n",
      "\n",
      "SVM Train (sigmoid) - Accuracy: 1.0\n",
      "SVM Train (sigmoid) - Precision: 1.0\n",
      "SVM Train (sigmoid) - Recall: 1.0\n",
      "SVM Train (sigmoid) - F1 Score: 1.0\n",
      "\n",
      "Classification Report (Test Data - rbf Kernel):\n",
      "\n",
      "              precision    recall  f1-score   support\n",
      "\n",
      "    negative       0.97      1.00      0.99       270\n",
      "    positive       1.00      0.98      0.99       283\n",
      "\n",
      "    accuracy                           0.99       553\n",
      "   macro avg       0.99      0.99      0.99       553\n",
      "weighted avg       0.99      0.99      0.99       553\n",
      "\n"
     ]
    }
   ],
   "source": [
    "from sklearn.model_selection import RandomizedSearchCV\n",
    "from sklearn.svm import SVC\n",
    "from scipy.stats import uniform\n",
    "from sklearn.metrics import accuracy_score, precision_score, recall_score, f1_score, classification_report\n",
    "\n",
    "# Define the SVM model with polynomial kernel\n",
    "svm_model = SVC(kernel='linear')  # Set the kernel explicitly to 'linear'\n",
    "\n",
    "# Define the parameter grid for advanced hyperparameter tuning for polynomial kernel\n",
    "svm_params = {\n",
    "    'C': uniform(0.1, 100),  # Uniform distribution between 0.1 and 100\n",
    "    'degree': [2, 3, 4, 5, 6, 7, 8, 10],  # Polynomial degree options\n",
    "    'gamma': ['scale', 'auto', 0.001, 0.01, 0.1, 1, 10],  # Range of gamma values\n",
    "    'coef0': [0.0, 0.1, 0.5, 1.0, 2.0, 3.0],  # Range for coef0\n",
    "    'class_weight': [None, 'balanced'],  # Class weight options\n",
    "    'shrinking': [True, False],  # Shrinking heuristic\n",
    "    'tol': [1e-3, 1e-4, 1e-5],  # Tolerance for stopping criteria\n",
    "    'max_iter': [1000, 2000, 3000, 4000, 5000]  # Maximum number of iterations\n",
    "}\n",
    "\n",
    "# Perform RandomizedSearchCV\n",
    "svm_random = RandomizedSearchCV(svm_model, svm_params, n_iter=50, cv=15, scoring='accuracy', random_state=42, n_jobs=-1)\n",
    "svm_random.fit(X_train, y_train)\n",
    "\n",
    "# Get the best estimator and predictions for test data\n",
    "svm_best = svm_random.best_estimator_\n",
    "svm_pred_test_linear = svm_best.predict(X_test)\n",
    "\n",
    "# Calculate metrics for test data\n",
    "accuracy_svm_test_linear = accuracy_score(y_test, svm_pred_test_linear)\n",
    "precision_svm_test_linear = precision_score(y_test, svm_pred_test_linear, average='weighted')\n",
    "recall_svm_test_linear = recall_score(y_test, svm_pred_test_linear, average='weighted')\n",
    "f1_svm_test_linear = f1_score(y_test, svm_pred_test_linear, average='weighted')\n",
    "\n",
    "# Get the best estimator and predictions for training data\n",
    "svm_pred_train_linear = svm_best.predict(X_train)\n",
    "\n",
    "# Calculate metrics for training data\n",
    "accuracy_svm_train_linear = accuracy_score(y_train, svm_pred_train_linear)\n",
    "precision_svm_train_linear = precision_score(y_train, svm_pred_train_linear, average='weighted')\n",
    "recall_svm_train_linear = recall_score(y_train, svm_pred_train_linear, average='weighted')\n",
    "f1_svm_train_linear = f1_score(y_train, svm_pred_train_linear, average='weighted')\n",
    "\n",
    "# Display the best parameters and classification report for test data\n",
    "svm_best_params = svm_random.best_params_\n",
    "svm_best_score = svm_random.best_score_\n",
    "\n",
    "print(f\"Best Parameters: {svm_best_params}\")\n",
    "print(f\"Best Cross-Validation Accuracy: {svm_best_score}\\n\")\n",
    "\n",
    "# Display the metrics for test data\n",
    "print(f\"SVM Test (sigmoid) - Accuracy: {accuracy_svm_test_linear}\")\n",
    "print(f\"SVM Test (sigmoid) - Precision: {precision_svm_test_linear}\")\n",
    "print(f\"SVM Test (sigmoid) - Recall: {recall_svm_test_linear}\")\n",
    "print(f\"SVM Test (sigmoid) - F1 Score: {f1_svm_test_linear}\")\n",
    "\n",
    "# Display the metrics for training data\n",
    "print(f\"\\nSVM Train (sigmoid) - Accuracy: {accuracy_svm_train_linear}\")\n",
    "print(f\"SVM Train (sigmoid) - Precision: {precision_svm_train_linear}\")\n",
    "print(f\"SVM Train (sigmoid) - Recall: {recall_svm_train_linear}\")\n",
    "print(f\"SVM Train (sigmoid) - F1 Score: {f1_svm_train_linear}\")\n",
    "\n",
    "# Generate classification report for test data\n",
    "class_report_test_linear = classification_report(y_test, svm_pred_test_linear, target_names=['negative', 'positive'])\n",
    "print(\"\\nClassification Report (Test Data - rbf Kernel):\\n\")\n",
    "print(class_report_test_linear)"
   ]
  },
  {
   "cell_type": "code",
   "execution_count": 9,
   "metadata": {},
   "outputs": [
    {
     "data": {
      "image/png": "[encoded data removed]",
      "text/plain": [
       "<Figure size 1000x600 with 1 Axes>"
      ]
     },
     "metadata": {},
     "output_type": "display_data"
    }
   ],
   "source": [
    "import matplotlib.pyplot as plt\n",
    "import numpy as np\n",
    "\n",
    "# ----> Calculate and store the accuracy scores <----\n",
    "accuracy_poly = accuracy_score(y_test, svm_pred_test_poly)\n",
    "accuracy_rbf = accuracy_score(y_test, svm_pred_test_rbf)\n",
    "accuracy_sigmoid = accuracy_score(y_test, svm_pred_test_sigmoid)\n",
    "accuracy_linear = accuracy_score(y_test, svm_pred_test_linear)\n",
    "\n",
    "# Akurasi model yang sudah dihitung sebelumnya\n",
    "models = ['Polynomial', 'RBF', 'Sigmoid', 'Linear']\n",
    "accuracies = [accuracy_poly, accuracy_rbf, accuracy_sigmoid, accuracy_linear]\n",
    "\n",
    "# Membuat grafik bar\n",
    "plt.figure(figsize=(10, 6))\n",
    "plt.bar(models, accuracies, color=['blue', 'green', 'red', 'yellow'])\n",
    "\n",
    "# Menambahkan label dan judul\n",
    "plt.xlabel('Model')\n",
    "plt.ylabel('Akurasi')\n",
    "plt.title('Perbandingan Akurasi Tiap Kernel')\n",
    "\n",
    "# Menampilkan nilai akurasi di atas batang\n",
    "for i, acc in enumerate(accuracies):\n",
    "    plt.text(i, acc + 0.01, round(acc, 2), ha='center', color='black', fontweight='bold')\n",
    "\n",
    "# Menampilkan grafik\n",
    "plt.show()"
   ]
  },
  {
   "cell_type": "code",
   "execution_count": 11,
   "metadata": {},
   "outputs": [
    {
     "name": "stdout",
     "output_type": "stream",
     "text": [
      "SVM Test (Poly) - Accuracy: 0.9855334538878843\n",
      "SVM Test (Rbf) - Accuracy: 0.9837251356238698\n",
      "SVM Test (Sigmoid) - Accuracy: 0.9873417721518988\n",
      "SVM Test (Linear) - Accuracy: 0.9855334538878843\n"
     ]
    }
   ],
   "source": [
    "print(f\"SVM Test (Poly) - Accuracy: {accuracy_svm_test_poly}\")\n",
    "print(f\"SVM Test (Rbf) - Accuracy: {accuracy_svm_test_rbf}\")\n",
    "print(f\"SVM Test (Sigmoid) - Accuracy: {accuracy_svm_test_sigmoid}\")\n",
    "print(f\"SVM Test (Linear) - Accuracy: {accuracy_svm_test_linear}\")"
   ]
  },
  {
   "cell_type": "code",
   "execution_count": 10,
   "metadata": {},
   "outputs": [
    {
     "data": {
      "image/png": "[encoded data removed]",
      "text/plain": [
       "<Figure size 1400x600 with 2 Axes>"
      ]
     },
     "metadata": {},
     "output_type": "display_data"
    }
   ],
   "source": [
    "from sklearn.metrics import confusion_matrix\n",
    "\n",
    "# Calculate the confusion matrices\n",
    "conf_matrix_svm = confusion_matrix(y_test, svm_pred_test_sigmoid)\n",
    "\n",
    "# Create the figure and axes\n",
    "fig, axes = plt.subplots(1, 2, figsize=(14, 6))\n",
    "\n",
    "# Plot the confusion matrix for SVM\n",
    "sns.heatmap(conf_matrix_svm, annot=True, fmt='d', cmap='Blues', xticklabels=['Negative', 'Positive'], yticklabels=['Negative', 'Positive'], ax=axes[0])\n",
    "axes[0].set_title('Confusion Matrix for SVM')\n",
    "axes[0].set_xlabel('Predicted Label')\n",
    "axes[0].set_ylabel('True Label')\n",
    "\n",
    "fig.delaxes(axes[1])\n",
    "\n",
    "# Adjust layout\n",
    "plt.tight_layout()\n",
    "\n",
    "# Show the plot\n",
    "plt.show()"
   ]
  },
  {
   "cell_type": "code",
   "execution_count": 13,
   "metadata": {},
   "outputs": [
    {
     "name": "stdout",
     "output_type": "stream",
     "text": [
      "\n",
      "Kalimat yang salah klasifikasi oleh SVM:\n",
      "                                                                                                                                                                                                                    Kalimat Label Asli Prediksi SVM\n",
      "98                                                                                                                                             presiden prabowo subianto umum susun kabinet merah putih mentri wakil mentri   positive     negative\n",
      "110                                                                                                                                                                      erick thohir sosok mentri kaya kabinet merah putih   negative     positive\n",
      "191                                                                                                                                 prabowogibranmerakyat prabowo gibran kabinet merah putih tolak provokasi tani sejahtera   positive     negative\n",
      "278  tokoh sulawesi selatan pilih gabung kabinet merah putih prabowo gibran lengkap klik link bio instagram kabarika kabarikaid kabarikadotid berkabaruntukkemajuan kabinetprabowogibran kabinetmerahputih sulawesi selatan   positive     negative\n",
      "340                                                                                                sampurasun wargi bandung mari nal mentri wakil mentri kabinet merah putih lantik presiden prabowo subianto senin oktober   positive     negative\n",
      "424                                                                                                     mohmahfudmd btwpak mahfud jabat mentri kabinet merah putih maaf ikut berita initau indonesia presiden habis maghrib   positive     negative\n",
      "518                                                                                       jhonsitorus maklum bang nama kabinet merah putih tepat kabinet urus diurusin boros kabinet jumbo mana anggota sekelurahanhahahaha   positive     negative\n",
      "540                                                                                                                        kebun raya gunung tidar tutup acara sama visi kabinet merah putih magelang nusantara adadikompas   positive     negative\n"
     ]
    }
   ],
   "source": [
    "# Set the display options to widen the view\n",
    "pd.set_option('display.max_colwidth', None)  # Allow columns to be displayed fully without truncation\n",
    "pd.set_option('display.width', 1000)  # Increase the display width\n",
    "pd.set_option('display.expand_frame_repr', False)  # Avoid wrapping the DataFrame\n",
    "\n",
    "# Prediksi menggunakan model SVM\n",
    "svm_pred_test_sigmoid = svm_best.predict(X_test)  # Gunakan model yang sudah dilatih (svm_best)\n",
    "\n",
    "# Reset index pada y_test setelah split\n",
    "y_test = y_test.reset_index(drop=True)\n",
    "\n",
    "# Identifikasi kesalahan klasifikasi untuk SVM\n",
    "df_salah_klasifikasi_svm = pd.DataFrame({\n",
    "    'Kalimat': data.loc[y_test.index, 'clean_teks'],\n",
    "    'Label Asli': y_test,\n",
    "    'Prediksi SVM': svm_pred_test_sigmoid\n",
    "})\n",
    "\n",
    "# Filter the rows where the predicted label is different from the true label\n",
    "df_salah_klasifikasi_svm = df_salah_klasifikasi_svm[df_salah_klasifikasi_svm['Label Asli'] != df_salah_klasifikasi_svm['Prediksi SVM']]\n",
    "\n",
    "# Tampilkan kalimat yang salah klasifikasi oleh SVM\n",
    "print(\"\\nKalimat yang salah klasifikasi oleh SVM:\")\n",
    "print(df_salah_klasifikasi_svm[['Kalimat', 'Label Asli', 'Prediksi SVM']])"
   ]
  }
 ],
 "metadata": {
  "kernelspec": {
   "display_name": "Python 3",
   "language": "python",
   "name": "python3"
  },
  "language_info": {
   "codemirror_mode": {
    "name": "ipython",
    "version": 3
   },
   "file_extension": ".py",
   "mimetype": "text/x-python",
   "name": "python",
   "nbconvert_exporter": "python",
   "pygments_lexer": "ipython3",
   "version": "3.10.11"
  }
 },
 "nbformat": 4,
 "nbformat_minor": 2
}
